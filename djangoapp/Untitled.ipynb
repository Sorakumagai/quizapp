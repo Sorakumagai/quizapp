{
 "cells": [
  {
   "cell_type": "code",
   "execution_count": 10,
   "id": "7fc5a4e0",
   "metadata": {},
   "outputs": [
    {
     "name": "stdout",
     "output_type": "stream",
     "text": [
      "['北海道', '青森県', '岩手県', '宮城県', '秋田県', '山形県', '福島県', '茨城県', '栃木県', '群馬県', '埼玉県', '千葉県', '東京都', '神奈川県', '新潟県', '富山県', '石川県', '福井県', '山梨県', '長野県', '岐阜県', '静岡県', '愛知県', '三重県', '滋賀県', '京都府', '大阪府', '兵庫県', '奈良県', '和歌山県', '鳥取県', '島根県', '岡山県', '広島県', '山口県', '徳島県', '香川県', '愛媛県', '高知県', '福岡県', '佐賀県', '長崎県', '熊本県', '大分県', '宮崎県', '鹿児島県', '沖縄県']\n",
      "岐阜県\n"
     ]
    },
    {
     "data": {
      "text/plain": [
       "('岐阜県', '岐阜市', 'https://www.pref.gifu.lg.jp/')"
      ]
     },
     "execution_count": 10,
     "metadata": {},
     "output_type": "execute_result"
    }
   ],
   "source": [
    "import random\n",
    "import wikipedia\n",
    "import os\n",
    "\n",
    "def prefecture_quiz():\n",
    "    pref_city_dict = {}\n",
    "    pref_url_dict = {}\n",
    "    with open('pref_office_loc.txt', encoding='utf-8') as f:\n",
    "        for i in f:\n",
    "            txt_lines = i.strip().split(',')\n",
    "            pref = txt_lines[0]\n",
    "            city = txt_lines[1]\n",
    "            url = txt_lines[2]\n",
    "\n",
    "            if pref not in pref_city_dict:\n",
    "                pref_city_dict[pref] = city\n",
    "            \n",
    "            if pref not in pref_url_dict:\n",
    "                pref_url_dict[pref] = url\n",
    "        \n",
    "    pref_name = []\n",
    "\n",
    "    for i in pref_city_dict.keys():\n",
    "        pref_name.append(i)\n",
    "    print(pref_name)\n",
    "    random_pref = random.choice(pref_name)\n",
    "    print(random_pref)\n",
    "    city_name = pref_city_dict[random_pref]\n",
    "    pref_url = pref_url_dict[random_pref]\n",
    "\n",
    "    return random_pref, city_name, pref_url\n",
    "\n",
    "prefecture_quiz()"
   ]
  },
  {
   "cell_type": "code",
   "execution_count": 8,
   "id": "893cf678",
   "metadata": {},
   "outputs": [],
   "source": [
    "pref_city_dict = {}\n",
    "pref_url_dict = {}\n",
    "with open('pref_office_loc.txt', encoding='utf-8') as f:\n",
    "    for i in f:\n",
    "        txt_lines = i.strip().split(',')\n",
    "        pref = txt_lines[0]\n",
    "        city = txt_lines[1]\n",
    "        url = txt_lines[2]\n",
    "\n",
    "        if pref not in pref_city_dict:\n",
    "            pref_city_dict[pref] = url\n",
    "\n",
    "        if pref not in pref_url_dict:\n",
    "            pref_url_dict[pref] = url"
   ]
  },
  {
   "cell_type": "code",
   "execution_count": 9,
   "id": "66cbfeaf",
   "metadata": {},
   "outputs": [
    {
     "data": {
      "text/plain": [
       "{'北海道': 'http://www.pref.hokkaido.lg.jp/',\n",
       " '青森県': 'https://www.pref.aomori.lg.jp/',\n",
       " '岩手県': 'https://www.pref.iwate.jp/',\n",
       " '宮城県': 'https://www.pref.miyagi.jp/',\n",
       " '秋田県': 'https://www.pref.akita.lg.jp/',\n",
       " '山形県': 'https://www.pref.yamagata.jp/',\n",
       " '福島県': 'https://www.pref.fukushima.lg.jp/',\n",
       " '茨城県': 'https://www.pref.ibaraki.jp/',\n",
       " '栃木県': 'http://www.pref.tochigi.lg.jp/',\n",
       " '群馬県': 'https://www.pref.gunma.jp/',\n",
       " '埼玉県': 'https://www.pref.saitama.lg.jp/',\n",
       " '千葉県': 'https://www.pref.chiba.lg.jp/',\n",
       " '東京都': 'https://www.metro.tokyo.lg.jp/',\n",
       " '神奈川県': 'http://www.pref.kanagawa.jp/',\n",
       " '新潟県': 'https://www.pref.niigata.lg.jp/',\n",
       " '富山県': 'http://www.pref.toyama.jp/index2.php',\n",
       " '石川県': 'https://www.pref.ishikawa.lg.jp/index2.html',\n",
       " '福井県': 'https://www.pref.fukui.lg.jp/index3.html',\n",
       " '山梨県': 'https://www.pref.yamanashi.jp/',\n",
       " '長野県': 'https://www.pref.nagano.lg.jp/',\n",
       " '岐阜県': 'https://www.pref.gifu.lg.jp/',\n",
       " '静岡県': 'https://www.city.shizuoka.lg.jp/',\n",
       " '愛知県': 'https://www.pref.aichi.jp/',\n",
       " '三重県': 'https://www.pref.mie.lg.jp/',\n",
       " '滋賀県': 'https://www.pref.shiga.lg.jp/',\n",
       " '京都府': 'https://www.pref.kyoto.jp/index2.html',\n",
       " '大阪府': 'http://www.pref.osaka.lg.jp/default.html',\n",
       " '兵庫県': 'https://web.pref.hyogo.lg.jp/index2.html',\n",
       " '奈良県': 'http://www.pref.nara.jp/1.html',\n",
       " '和歌山県': 'https://www.pref.wakayama.lg.jp/',\n",
       " '鳥取県': 'https://www.pref.tottori.lg.jp/',\n",
       " '島根県': 'https://www.pref.shimane.lg.jp/',\n",
       " '岡山県': 'https://www.pref.okayama.jp/',\n",
       " '広島県': 'https://www.pref.hiroshima.lg.jp/',\n",
       " '山口県': 'https://www.pref.yamaguchi.lg.jp/',\n",
       " '徳島県': 'https://www.pref.tokushima.lg.jp/',\n",
       " '香川県': 'https://www.pref.kagawa.lg.jp/',\n",
       " '愛媛県': 'https://www.pref.ehime.jp/index.html',\n",
       " '高知県': 'https://www.pref.kochi.lg.jp/',\n",
       " '福岡県': 'https://www.pref.fukuoka.lg.jp/',\n",
       " '佐賀県': 'https://www.pref.saga.lg.jp/',\n",
       " '長崎県': 'https://www.pref.nagasaki.jp/',\n",
       " '熊本県': 'https://www.pref.kumamoto.jp/Default.aspx',\n",
       " '大分県': 'https://www.pref.oita.jp/',\n",
       " '宮崎県': 'https://www.pref.miyazaki.lg.jp/',\n",
       " '鹿児島県': 'https://www.pref.kagoshima.jp/index2.html',\n",
       " '沖縄県': 'https://www.pref.okinawa.jp/index.html'}"
      ]
     },
     "execution_count": 9,
     "metadata": {},
     "output_type": "execute_result"
    }
   ],
   "source": [
    "pref_url_dict"
   ]
  },
  {
   "cell_type": "code",
   "execution_count": 7,
   "id": "7db7184e",
   "metadata": {},
   "outputs": [
    {
     "data": {
      "text/plain": [
       "{'北海道': 'http://www.pref.hokkaido.lg.jp/',\n",
       " '青森県': 'https://www.pref.aomori.lg.jp/',\n",
       " '岩手県': 'https://www.pref.iwate.jp/',\n",
       " '宮城県': 'https://www.pref.miyagi.jp/',\n",
       " '秋田県': 'https://www.pref.akita.lg.jp/',\n",
       " '山形県': 'https://www.pref.yamagata.jp/',\n",
       " '福島県': 'https://www.pref.fukushima.lg.jp/',\n",
       " '茨城県': 'https://www.pref.ibaraki.jp/',\n",
       " '栃木県': 'http://www.pref.tochigi.lg.jp/',\n",
       " '群馬県': 'https://www.pref.gunma.jp/',\n",
       " '埼玉県': 'https://www.pref.saitama.lg.jp/',\n",
       " '千葉県': 'https://www.pref.chiba.lg.jp/',\n",
       " '東京都': 'https://www.metro.tokyo.lg.jp/',\n",
       " '神奈川県': 'http://www.pref.kanagawa.jp/',\n",
       " '新潟県': 'https://www.pref.niigata.lg.jp/',\n",
       " '富山県': 'http://www.pref.toyama.jp/index2.php',\n",
       " '石川県': 'https://www.pref.ishikawa.lg.jp/index2.html',\n",
       " '福井県': 'https://www.pref.fukui.lg.jp/index3.html',\n",
       " '山梨県': 'https://www.pref.yamanashi.jp/',\n",
       " '長野県': 'https://www.pref.nagano.lg.jp/',\n",
       " '岐阜県': 'https://www.pref.gifu.lg.jp/',\n",
       " '静岡県': 'https://www.city.shizuoka.lg.jp/',\n",
       " '愛知県': 'https://www.pref.aichi.jp/',\n",
       " '三重県': 'https://www.pref.mie.lg.jp/',\n",
       " '滋賀県': 'https://www.pref.shiga.lg.jp/',\n",
       " '京都府': 'https://www.pref.kyoto.jp/index2.html',\n",
       " '大阪府': 'http://www.pref.osaka.lg.jp/default.html',\n",
       " '兵庫県': 'https://web.pref.hyogo.lg.jp/index2.html',\n",
       " '奈良県': 'http://www.pref.nara.jp/1.html',\n",
       " '和歌山県': 'https://www.pref.wakayama.lg.jp/',\n",
       " '鳥取県': 'https://www.pref.tottori.lg.jp/',\n",
       " '島根県': 'https://www.pref.shimane.lg.jp/',\n",
       " '岡山県': 'https://www.pref.okayama.jp/',\n",
       " '広島県': 'https://www.pref.hiroshima.lg.jp/',\n",
       " '山口県': 'https://www.pref.yamaguchi.lg.jp/',\n",
       " '徳島県': 'https://www.pref.tokushima.lg.jp/',\n",
       " '香川県': 'https://www.pref.kagawa.lg.jp/',\n",
       " '愛媛県': 'https://www.pref.ehime.jp/index.html',\n",
       " '高知県': 'https://www.pref.kochi.lg.jp/',\n",
       " '福岡県': 'https://www.pref.fukuoka.lg.jp/',\n",
       " '佐賀県': 'https://www.pref.saga.lg.jp/',\n",
       " '長崎県': 'https://www.pref.nagasaki.jp/',\n",
       " '熊本県': 'https://www.pref.kumamoto.jp/Default.aspx',\n",
       " '大分県': 'https://www.pref.oita.jp/',\n",
       " '宮崎県': 'https://www.pref.miyazaki.lg.jp/',\n",
       " '鹿児島県': 'https://www.pref.kagoshima.jp/index2.html',\n",
       " '沖縄県': 'https://www.pref.okinawa.jp/index.html'}"
      ]
     },
     "execution_count": 7,
     "metadata": {},
     "output_type": "execute_result"
    }
   ],
   "source": [
    "pref_city_dict"
   ]
  },
  {
   "cell_type": "code",
   "execution_count": null,
   "id": "5c622cf0",
   "metadata": {},
   "outputs": [],
   "source": [
    "pref_name = []\n",
    "\n",
    "for i in pref_city_dict.keys():\n",
    "    pref_name.append(i)\n",
    "print(pref_name)\n",
    "random_pref = random.choice(pref_name)\n",
    "print(random_pref)\n",
    "city_name = pref_city_dict[random_pref]\n",
    "pref_url = pref_url_dict[random_pref]\n",
    "\n",
    "return random_pref, city_name, pref_url"
   ]
  }
 ],
 "metadata": {
  "kernelspec": {
   "display_name": "Python 3 (ipykernel)",
   "language": "python",
   "name": "python3"
  },
  "language_info": {
   "codemirror_mode": {
    "name": "ipython",
    "version": 3
   },
   "file_extension": ".py",
   "mimetype": "text/x-python",
   "name": "python",
   "nbconvert_exporter": "python",
   "pygments_lexer": "ipython3",
   "version": "3.8.13"
  }
 },
 "nbformat": 4,
 "nbformat_minor": 5
}
